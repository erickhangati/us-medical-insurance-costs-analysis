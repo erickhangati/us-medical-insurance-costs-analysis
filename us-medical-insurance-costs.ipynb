{
 "cells": [
  {
   "cell_type": "markdown",
   "metadata": {},
   "source": [
    "# U.S. Medical Insurance Costs"
   ]
  },
  {
   "metadata": {},
   "cell_type": "markdown",
   "source": [
    "## Importing and Exploring the Dataset\n",
    "\n",
    "In this step, we will import the medical insurance costs dataset and extract relevant columns for analysis. The dataset is stored in a CSV file named `insurance.csv`, which contains the following columns:\n",
    "\n",
    "- `age`: Age of the primary beneficiary\n",
    "- `sex`: Insurance contractor gender (male/female)\n",
    "- `bmi`: Body mass index, providing an understanding of body fat\n",
    "- `children`: Number of children/dependents covered by the insurance\n",
    "- `smoker`: Smoking status (yes/no)\n",
    "- `region`: The beneficiary’s residential area in the US (northeast, southeast, southwest, northwest)\n",
    "- `charges`: Individual medical costs billed by health insurance"
   ]
  },
  {
   "metadata": {
    "ExecuteTime": {
     "end_time": "2024-07-02T16:28:50.689115Z",
     "start_time": "2024-07-02T16:28:50.675701Z"
    }
   },
   "cell_type": "code",
   "source": [
    "import csv\n",
    "\n",
    "# Importing dataset\n",
    "with open('insurance.csv') as insurance_data:\n",
    "    data = csv.DictReader(insurance_data)\n",
    "\n",
    "    ages = []\n",
    "    bmis = []\n",
    "    charges = []\n",
    "    regions = []\n",
    "    smokers = []\n",
    "\n",
    "    for row in data:\n",
    "        ages.append(float(row['age']))\n",
    "        bmis.append(float(row['bmi']))\n",
    "        charges.append(float(row['charges']))\n",
    "        regions.append(row['region'])\n",
    "        smokers.append(row['smoker'])"
   ],
   "outputs": [],
   "execution_count": 41
  },
  {
   "metadata": {},
   "cell_type": "markdown",
   "source": [
    "## Calculating the Average Age\n",
    "\n",
    "In this step, we will create a function to calculate the average age of the individuals in the dataset. This will help us understand the central tendency of the age distribution among the beneficiaries.\n",
    "\n",
    "### Steps:\n",
    "1. Define a function `calculate_average_age` that takes a list of ages as input.\n",
    "2. Calculate the sum of all ages.\n",
    "3. Divide the sum by the number of ages to get the average.\n",
    "4. Return the calculated average age.\n",
    "\n",
    "This function will provide a simple yet insightful statistic about the age distribution in our dataset."
   ]
  },
  {
   "metadata": {
    "ExecuteTime": {
     "end_time": "2024-07-02T16:28:50.694845Z",
     "start_time": "2024-07-02T16:28:50.689115Z"
    }
   },
   "cell_type": "code",
   "source": [
    "def calculate_average_age(ages_list):\n",
    "    \"\"\"\n",
    "    Calculate the average age from a list of ages.\n",
    "\n",
    "    Parameters:\n",
    "    ages (list of float): A list containing the ages of individuals.\n",
    "\n",
    "    Returns:\n",
    "    float: The average age of the individuals.\n",
    "    \"\"\"\n",
    "    total_ages = sum(ages_list)\n",
    "    average = total_ages / len(ages_list)\n",
    "    return average\n",
    "\n",
    "\n",
    "average_age = calculate_average_age(ages)\n",
    "print(round(average_age))"
   ],
   "outputs": [
    {
     "name": "stdout",
     "output_type": "stream",
     "text": [
      "39\n"
     ]
    }
   ],
   "execution_count": 42
  },
  {
   "metadata": {},
   "cell_type": "markdown",
   "source": [
    "## Determining the Majority Region\n",
    "\n",
    "In this step, we will create a function to determine the region where the majority of individuals in the dataset come from. This will help us understand the distribution of individuals across different regions.\n",
    "\n",
    "### Steps:\n",
    "1. Define a function `calculate_majority_region` that takes a list of regions as input.\n",
    "2. Use a dictionary to count the occurrences of each region.\n",
    "3. Identify the region with the highest count.\n",
    "4. Return the region with the highest count as the majority region.\n",
    "\n",
    "The function will be documented using a docstring to provide clear information about its purpose, parameters, and return value."
   ]
  },
  {
   "metadata": {
    "ExecuteTime": {
     "end_time": "2024-07-02T16:28:50.704251Z",
     "start_time": "2024-07-02T16:28:50.697090Z"
    }
   },
   "cell_type": "code",
   "source": [
    "def calculate_majority_region(regions_list):\n",
    "    \"\"\"\n",
    "    Determine the region where the majority of individuals come from.\n",
    "\n",
    "    Parameters:\n",
    "    regions_list (list of str): A list containing the regions of individuals.\n",
    "\n",
    "    Returns:\n",
    "    str: The region with the highest number of individuals.\n",
    "    \"\"\"\n",
    "    regions_count = {}\n",
    "    for region in regions_list:\n",
    "        if region in regions_count:\n",
    "            regions_count[region] += 1\n",
    "        else:\n",
    "            regions_count[region] = 1\n",
    "\n",
    "    majority = max(regions_count, key=regions_count.get)\n",
    "    return majority\n",
    "\n",
    "\n",
    "majority_region = calculate_majority_region(regions)\n",
    "print(majority_region)"
   ],
   "outputs": [
    {
     "name": "stdout",
     "output_type": "stream",
     "text": [
      "southeast\n"
     ]
    }
   ],
   "execution_count": 43
  },
  {
   "metadata": {},
   "cell_type": "markdown",
   "source": [
    "## Calculating Cost Difference Between Smokers and Non-Smokers\n",
    "\n",
    "In this step, we will create a function to calculate the difference in average medical insurance costs between smokers and non-smokers. This will help us understand the financial impact of smoking on medical insurance costs.\n",
    "\n",
    "### Steps:\n",
    "1. Define a function `calculate_cost_difference` that takes a list of smoker statuses and a list of charges as input.\n",
    "2. Separate the charges into two lists: one for smokers and one for non-smokers.\n",
    "3. Calculate the average charge for smokers and the average charge for non-smokers.\n",
    "4. Compute the difference between the average charges.\n",
    "5. Return the cost difference."
   ]
  },
  {
   "metadata": {
    "ExecuteTime": {
     "end_time": "2024-07-02T16:52:06.047777Z",
     "start_time": "2024-07-02T16:52:06.040483Z"
    }
   },
   "cell_type": "code",
   "source": [
    "def calculate_cost_difference(smokers_charges_zip):\n",
    "    smokers_charges = []\n",
    "    non_smokers_charges = []\n",
    "    \n",
    "    for charge in smokers_charges_zip:\n",
    "        if charge[0] == 'yes':\n",
    "            smokers_charges.append(charge[1])\n",
    "        else:\n",
    "            non_smokers_charges.append(charge[1])\n",
    "        \n",
    "    average_smokers_charges = sum(smokers_charges) / len(smokers_charges)\n",
    "    average_non_smokers_charges = sum(non_smokers_charges) / len(non_smokers_charges)\n",
    "    smokers_cost_difference = average_smokers_charges - average_non_smokers_charges\n",
    "    \n",
    "    return abs(smokers_cost_difference)\n",
    "\n",
    "\n",
    "smokers_charges_joined = zip(smokers, charges)\n",
    "cost_difference = calculate_cost_difference(smokers_charges_joined)\n",
    "print(cost_difference)"
   ],
   "outputs": [
    {
     "name": "stdout",
     "output_type": "stream",
     "text": [
      "23615.96353367665\n"
     ]
    }
   ],
   "execution_count": 48
  }
 ],
 "metadata": {
  "kernelspec": {
   "display_name": "Python 3",
   "language": "python",
   "name": "python3"
  },
  "language_info": {
   "codemirror_mode": {
    "name": "ipython",
    "version": 3
   },
   "file_extension": ".py",
   "mimetype": "text/x-python",
   "name": "python",
   "nbconvert_exporter": "python",
   "pygments_lexer": "ipython3",
   "version": "3.7.6"
  }
 },
 "nbformat": 4,
 "nbformat_minor": 4
}
